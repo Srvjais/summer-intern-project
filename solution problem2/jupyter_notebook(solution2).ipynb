{
 "cells": [
  {
   "cell_type": "markdown",
   "metadata": {},
   "source": [
    "# Installing External Dependencies"
   ]
  },
  {
   "cell_type": "code",
   "execution_count": null,
   "metadata": {},
   "outputs": [],
   "source": [
    "!pip install keras\n",
    "!pip install tensorflow"
   ]
  },
  {
   "cell_type": "markdown",
   "metadata": {},
   "source": [
    "# Importing Libraries"
   ]
  },
  {
   "cell_type": "code",
   "execution_count": 2,
   "metadata": {},
   "outputs": [
    {
     "name": "stderr",
     "output_type": "stream",
     "text": [
      "Using TensorFlow backend.\n"
     ]
    }
   ],
   "source": [
    "import pandas as pd\n",
    "import numpy as np\n",
    "from sklearn.model_selection import train_test_split\n",
    "from keras.utils import np_utils"
   ]
  },
  {
   "cell_type": "code",
   "execution_count": 3,
   "metadata": {},
   "outputs": [
    {
     "data": {
      "text/html": [
       "<div>\n",
       "<style scoped>\n",
       "    .dataframe tbody tr th:only-of-type {\n",
       "        vertical-align: middle;\n",
       "    }\n",
       "\n",
       "    .dataframe tbody tr th {\n",
       "        vertical-align: top;\n",
       "    }\n",
       "\n",
       "    .dataframe thead th {\n",
       "        text-align: right;\n",
       "    }\n",
       "</style>\n",
       "<table border=\"1\" class=\"dataframe\">\n",
       "  <thead>\n",
       "    <tr style=\"text-align: right;\">\n",
       "      <th></th>\n",
       "      <th>Clump Thickness</th>\n",
       "      <th>Uniformity of Cell Size</th>\n",
       "      <th>Uniformity of Cell Shape</th>\n",
       "      <th>Marginal Adhesion</th>\n",
       "      <th>Single Epithelial Cell Size</th>\n",
       "      <th>Bare Nuclei</th>\n",
       "      <th>Bland Chromatin</th>\n",
       "      <th>Normal Nucleoli</th>\n",
       "      <th>Mitoses</th>\n",
       "      <th>2b,4m</th>\n",
       "    </tr>\n",
       "  </thead>\n",
       "  <tbody>\n",
       "    <tr>\n",
       "      <th>0</th>\n",
       "      <td>5</td>\n",
       "      <td>1</td>\n",
       "      <td>1</td>\n",
       "      <td>1</td>\n",
       "      <td>2</td>\n",
       "      <td>1</td>\n",
       "      <td>3</td>\n",
       "      <td>1</td>\n",
       "      <td>1</td>\n",
       "      <td>2</td>\n",
       "    </tr>\n",
       "    <tr>\n",
       "      <th>1</th>\n",
       "      <td>5</td>\n",
       "      <td>4</td>\n",
       "      <td>4</td>\n",
       "      <td>5</td>\n",
       "      <td>7</td>\n",
       "      <td>10</td>\n",
       "      <td>3</td>\n",
       "      <td>2</td>\n",
       "      <td>1</td>\n",
       "      <td>2</td>\n",
       "    </tr>\n",
       "    <tr>\n",
       "      <th>2</th>\n",
       "      <td>3</td>\n",
       "      <td>1</td>\n",
       "      <td>1</td>\n",
       "      <td>1</td>\n",
       "      <td>2</td>\n",
       "      <td>2</td>\n",
       "      <td>3</td>\n",
       "      <td>1</td>\n",
       "      <td>1</td>\n",
       "      <td>2</td>\n",
       "    </tr>\n",
       "    <tr>\n",
       "      <th>3</th>\n",
       "      <td>6</td>\n",
       "      <td>8</td>\n",
       "      <td>8</td>\n",
       "      <td>1</td>\n",
       "      <td>3</td>\n",
       "      <td>4</td>\n",
       "      <td>3</td>\n",
       "      <td>7</td>\n",
       "      <td>1</td>\n",
       "      <td>2</td>\n",
       "    </tr>\n",
       "    <tr>\n",
       "      <th>4</th>\n",
       "      <td>4</td>\n",
       "      <td>1</td>\n",
       "      <td>1</td>\n",
       "      <td>3</td>\n",
       "      <td>2</td>\n",
       "      <td>1</td>\n",
       "      <td>3</td>\n",
       "      <td>1</td>\n",
       "      <td>1</td>\n",
       "      <td>2</td>\n",
       "    </tr>\n",
       "  </tbody>\n",
       "</table>\n",
       "</div>"
      ],
      "text/plain": [
       "   Clump Thickness  Uniformity of Cell Size  Uniformity of Cell Shape  \\\n",
       "0                5                        1                         1   \n",
       "1                5                        4                         4   \n",
       "2                3                        1                         1   \n",
       "3                6                        8                         8   \n",
       "4                4                        1                         1   \n",
       "\n",
       "   Marginal Adhesion  Single Epithelial Cell Size Bare Nuclei  \\\n",
       "0                  1                            2           1   \n",
       "1                  5                            7          10   \n",
       "2                  1                            2           2   \n",
       "3                  1                            3           4   \n",
       "4                  3                            2           1   \n",
       "\n",
       "   Bland Chromatin  Normal Nucleoli  Mitoses  2b,4m  \n",
       "0                3                1        1      2  \n",
       "1                3                2        1      2  \n",
       "2                3                1        1      2  \n",
       "3                3                7        1      2  \n",
       "4                3                1        1      2  "
      ]
     },
     "execution_count": 3,
     "metadata": {},
     "output_type": "execute_result"
    }
   ],
   "source": [
    "data=pd.read_csv('Dataset2.csv')\n",
    "data.drop('Sample code number',axis=1,inplace=True)\n",
    "data.head()"
   ]
  },
  {
   "cell_type": "markdown",
   "metadata": {},
   "source": [
    "# Reading CSV Files"
   ]
  },
  {
   "cell_type": "code",
   "execution_count": 7,
   "metadata": {},
   "outputs": [],
   "source": [
    "categories=[\"benign\",\"malignant\"]"
   ]
  },
  {
   "cell_type": "markdown",
   "metadata": {},
   "source": [
    "#  Features of Dataset"
   ]
  },
  {
   "cell_type": "code",
   "execution_count": 8,
   "metadata": {},
   "outputs": [
    {
     "data": {
      "text/html": [
       "<div>\n",
       "<style scoped>\n",
       "    .dataframe tbody tr th:only-of-type {\n",
       "        vertical-align: middle;\n",
       "    }\n",
       "\n",
       "    .dataframe tbody tr th {\n",
       "        vertical-align: top;\n",
       "    }\n",
       "\n",
       "    .dataframe thead th {\n",
       "        text-align: right;\n",
       "    }\n",
       "</style>\n",
       "<table border=\"1\" class=\"dataframe\">\n",
       "  <thead>\n",
       "    <tr style=\"text-align: right;\">\n",
       "      <th></th>\n",
       "      <th>Clump Thickness</th>\n",
       "      <th>Uniformity of Cell Size</th>\n",
       "      <th>Uniformity of Cell Shape</th>\n",
       "      <th>Marginal Adhesion</th>\n",
       "      <th>Single Epithelial Cell Size</th>\n",
       "      <th>Bland Chromatin</th>\n",
       "      <th>Normal Nucleoli</th>\n",
       "      <th>Mitoses</th>\n",
       "      <th>2b,4m</th>\n",
       "    </tr>\n",
       "  </thead>\n",
       "  <tbody>\n",
       "    <tr>\n",
       "      <th>count</th>\n",
       "      <td>699.000000</td>\n",
       "      <td>699.000000</td>\n",
       "      <td>699.000000</td>\n",
       "      <td>699.000000</td>\n",
       "      <td>699.000000</td>\n",
       "      <td>699.000000</td>\n",
       "      <td>699.000000</td>\n",
       "      <td>699.000000</td>\n",
       "      <td>699.000000</td>\n",
       "    </tr>\n",
       "    <tr>\n",
       "      <th>mean</th>\n",
       "      <td>4.417740</td>\n",
       "      <td>3.134478</td>\n",
       "      <td>3.207439</td>\n",
       "      <td>2.806867</td>\n",
       "      <td>3.216023</td>\n",
       "      <td>3.437768</td>\n",
       "      <td>2.866953</td>\n",
       "      <td>1.589413</td>\n",
       "      <td>2.689557</td>\n",
       "    </tr>\n",
       "    <tr>\n",
       "      <th>std</th>\n",
       "      <td>2.815741</td>\n",
       "      <td>3.051459</td>\n",
       "      <td>2.971913</td>\n",
       "      <td>2.855379</td>\n",
       "      <td>2.214300</td>\n",
       "      <td>2.438364</td>\n",
       "      <td>3.053634</td>\n",
       "      <td>1.715078</td>\n",
       "      <td>0.951273</td>\n",
       "    </tr>\n",
       "    <tr>\n",
       "      <th>min</th>\n",
       "      <td>1.000000</td>\n",
       "      <td>1.000000</td>\n",
       "      <td>1.000000</td>\n",
       "      <td>1.000000</td>\n",
       "      <td>1.000000</td>\n",
       "      <td>1.000000</td>\n",
       "      <td>1.000000</td>\n",
       "      <td>1.000000</td>\n",
       "      <td>2.000000</td>\n",
       "    </tr>\n",
       "    <tr>\n",
       "      <th>25%</th>\n",
       "      <td>2.000000</td>\n",
       "      <td>1.000000</td>\n",
       "      <td>1.000000</td>\n",
       "      <td>1.000000</td>\n",
       "      <td>2.000000</td>\n",
       "      <td>2.000000</td>\n",
       "      <td>1.000000</td>\n",
       "      <td>1.000000</td>\n",
       "      <td>2.000000</td>\n",
       "    </tr>\n",
       "    <tr>\n",
       "      <th>50%</th>\n",
       "      <td>4.000000</td>\n",
       "      <td>1.000000</td>\n",
       "      <td>1.000000</td>\n",
       "      <td>1.000000</td>\n",
       "      <td>2.000000</td>\n",
       "      <td>3.000000</td>\n",
       "      <td>1.000000</td>\n",
       "      <td>1.000000</td>\n",
       "      <td>2.000000</td>\n",
       "    </tr>\n",
       "    <tr>\n",
       "      <th>75%</th>\n",
       "      <td>6.000000</td>\n",
       "      <td>5.000000</td>\n",
       "      <td>5.000000</td>\n",
       "      <td>4.000000</td>\n",
       "      <td>4.000000</td>\n",
       "      <td>5.000000</td>\n",
       "      <td>4.000000</td>\n",
       "      <td>1.000000</td>\n",
       "      <td>4.000000</td>\n",
       "    </tr>\n",
       "    <tr>\n",
       "      <th>max</th>\n",
       "      <td>10.000000</td>\n",
       "      <td>10.000000</td>\n",
       "      <td>10.000000</td>\n",
       "      <td>10.000000</td>\n",
       "      <td>10.000000</td>\n",
       "      <td>10.000000</td>\n",
       "      <td>10.000000</td>\n",
       "      <td>10.000000</td>\n",
       "      <td>4.000000</td>\n",
       "    </tr>\n",
       "  </tbody>\n",
       "</table>\n",
       "</div>"
      ],
      "text/plain": [
       "       Clump Thickness  Uniformity of Cell Size  Uniformity of Cell Shape  \\\n",
       "count       699.000000               699.000000                699.000000   \n",
       "mean          4.417740                 3.134478                  3.207439   \n",
       "std           2.815741                 3.051459                  2.971913   \n",
       "min           1.000000                 1.000000                  1.000000   \n",
       "25%           2.000000                 1.000000                  1.000000   \n",
       "50%           4.000000                 1.000000                  1.000000   \n",
       "75%           6.000000                 5.000000                  5.000000   \n",
       "max          10.000000                10.000000                 10.000000   \n",
       "\n",
       "       Marginal Adhesion  Single Epithelial Cell Size  Bland Chromatin  \\\n",
       "count         699.000000                   699.000000       699.000000   \n",
       "mean            2.806867                     3.216023         3.437768   \n",
       "std             2.855379                     2.214300         2.438364   \n",
       "min             1.000000                     1.000000         1.000000   \n",
       "25%             1.000000                     2.000000         2.000000   \n",
       "50%             1.000000                     2.000000         3.000000   \n",
       "75%             4.000000                     4.000000         5.000000   \n",
       "max            10.000000                    10.000000        10.000000   \n",
       "\n",
       "       Normal Nucleoli     Mitoses       2b,4m  \n",
       "count       699.000000  699.000000  699.000000  \n",
       "mean          2.866953    1.589413    2.689557  \n",
       "std           3.053634    1.715078    0.951273  \n",
       "min           1.000000    1.000000    2.000000  \n",
       "25%           1.000000    1.000000    2.000000  \n",
       "50%           1.000000    1.000000    2.000000  \n",
       "75%           4.000000    1.000000    4.000000  \n",
       "max          10.000000   10.000000    4.000000  "
      ]
     },
     "execution_count": 8,
     "metadata": {},
     "output_type": "execute_result"
    }
   ],
   "source": [
    "data.describe()"
   ]
  },
  {
   "cell_type": "markdown",
   "metadata": {},
   "source": [
    "# Data Augmentation using Re-encoding and Data Imputation"
   ]
  },
  {
   "cell_type": "code",
   "execution_count": 9,
   "metadata": {},
   "outputs": [],
   "source": [
    "data['2b,4m'].replace([2,4],[0,1],inplace=True)"
   ]
  },
  {
   "cell_type": "code",
   "execution_count": 10,
   "metadata": {},
   "outputs": [],
   "source": [
    "mean=round(data.mean()[6])\n",
    "data['Bare Nuclei']=data['Bare Nuclei'].replace('?',mean)"
   ]
  },
  {
   "cell_type": "markdown",
   "metadata": {},
   "source": [
    "# One hot encoding"
   ]
  },
  {
   "cell_type": "code",
   "execution_count": 35,
   "metadata": {},
   "outputs": [],
   "source": [
    "values = data.values\n",
    "X=values[:,:-1]\n",
    "y=values[:,-1]\n",
    "y = np_utils.to_categorical(y, len(categories))\n",
    "\n"
   ]
  },
  {
   "cell_type": "markdown",
   "metadata": {},
   "source": [
    "# Making data set using train_test_split"
   ]
  },
  {
   "cell_type": "code",
   "execution_count": 38,
   "metadata": {},
   "outputs": [],
   "source": [
    "X_train,X_test,y_train,y_test = train_test_split(X,y,test_size=.3,random_state=42,stratify=y)"
   ]
  },
  {
   "cell_type": "markdown",
   "metadata": {},
   "source": [
    "# Training the Model"
   ]
  },
  {
   "cell_type": "code",
   "execution_count": 39,
   "metadata": {},
   "outputs": [],
   "source": [
    "from keras.models import Sequential\n",
    "from keras.layers import Dense"
   ]
  },
  {
   "cell_type": "code",
   "execution_count": 40,
   "metadata": {},
   "outputs": [
    {
     "name": "stdout",
     "output_type": "stream",
     "text": [
      "Train on 489 samples, validate on 210 samples\n",
      "Epoch 1/100\n",
      "489/489 [==============================] - 1s 2ms/step - loss: 1.6223 - acc: 0.6605 - val_loss: 0.9952 - val_acc: 0.6714\n",
      "Epoch 2/100\n",
      "489/489 [==============================] - 0s 726us/step - loss: 0.7760 - acc: 0.6564 - val_loss: 0.6610 - val_acc: 0.6095\n",
      "Epoch 3/100\n",
      "489/489 [==============================] - 0s 772us/step - loss: 0.6374 - acc: 0.6462 - val_loss: 0.6065 - val_acc: 0.7381\n",
      "Epoch 4/100\n",
      "489/489 [==============================] - 0s 687us/step - loss: 0.5958 - acc: 0.7301 - val_loss: 0.5586 - val_acc: 0.7905\n",
      "Epoch 5/100\n",
      "489/489 [==============================] - 0s 805us/step - loss: 0.5446 - acc: 0.7914 - val_loss: 0.5008 - val_acc: 0.8429\n",
      "Epoch 6/100\n",
      "489/489 [==============================] - 0s 779us/step - loss: 0.4860 - acc: 0.8262 - val_loss: 0.4531 - val_acc: 0.8619\n",
      "Epoch 7/100\n",
      "489/489 [==============================] - 0s 657us/step - loss: 0.4327 - acc: 0.8569 - val_loss: 0.4065 - val_acc: 0.8905\n",
      "Epoch 8/100\n",
      "489/489 [==============================] - 0s 741us/step - loss: 0.3790 - acc: 0.8875 - val_loss: 0.3652 - val_acc: 0.9000\n",
      "Epoch 9/100\n",
      "489/489 [==============================] - 0s 652us/step - loss: 0.3331 - acc: 0.9121 - val_loss: 0.3342 - val_acc: 0.9000\n",
      "Epoch 10/100\n",
      "489/489 [==============================] - 0s 819us/step - loss: 0.2975 - acc: 0.9264 - val_loss: 0.3049 - val_acc: 0.9000\n",
      "Epoch 11/100\n",
      "489/489 [==============================] - 0s 777us/step - loss: 0.2716 - acc: 0.9305 - val_loss: 0.2810 - val_acc: 0.9095\n",
      "Epoch 12/100\n",
      "489/489 [==============================] - 0s 820us/step - loss: 0.2530 - acc: 0.9387 - val_loss: 0.2587 - val_acc: 0.9238\n",
      "Epoch 13/100\n",
      "489/489 [==============================] - 0s 807us/step - loss: 0.2327 - acc: 0.9530 - val_loss: 0.2376 - val_acc: 0.9333\n",
      "Epoch 14/100\n",
      "489/489 [==============================] - 0s 676us/step - loss: 0.2176 - acc: 0.9550 - val_loss: 0.2219 - val_acc: 0.9381\n",
      "Epoch 15/100\n",
      "489/489 [==============================] - 0s 777us/step - loss: 0.2008 - acc: 0.9571 - val_loss: 0.2071 - val_acc: 0.9429\n",
      "Epoch 16/100\n",
      "489/489 [==============================] - 0s 771us/step - loss: 0.1873 - acc: 0.9550 - val_loss: 0.1936 - val_acc: 0.9476\n",
      "Epoch 17/100\n",
      "489/489 [==============================] - 0s 661us/step - loss: 0.1787 - acc: 0.9632 - val_loss: 0.1906 - val_acc: 0.9429\n",
      "Epoch 18/100\n",
      "489/489 [==============================] - 0s 635us/step - loss: 0.1723 - acc: 0.9550 - val_loss: 0.1795 - val_acc: 0.9476\n",
      "Epoch 19/100\n",
      "489/489 [==============================] - 0s 605us/step - loss: 0.1641 - acc: 0.9632 - val_loss: 0.1800 - val_acc: 0.9476\n",
      "Epoch 20/100\n",
      "489/489 [==============================] - 0s 742us/step - loss: 0.1545 - acc: 0.9530 - val_loss: 0.1628 - val_acc: 0.9476\n",
      "Epoch 21/100\n",
      "489/489 [==============================] - 0s 664us/step - loss: 0.1444 - acc: 0.9611 - val_loss: 0.1574 - val_acc: 0.9476\n",
      "Epoch 22/100\n",
      "489/489 [==============================] - 0s 645us/step - loss: 0.1377 - acc: 0.9611 - val_loss: 0.1486 - val_acc: 0.9429\n",
      "Epoch 23/100\n",
      "489/489 [==============================] - 0s 696us/step - loss: 0.1313 - acc: 0.9611 - val_loss: 0.1420 - val_acc: 0.9476\n",
      "Epoch 24/100\n",
      "489/489 [==============================] - 0s 803us/step - loss: 0.1239 - acc: 0.9611 - val_loss: 0.1394 - val_acc: 0.9571\n",
      "Epoch 25/100\n",
      "489/489 [==============================] - 0s 798us/step - loss: 0.1184 - acc: 0.9673 - val_loss: 0.1333 - val_acc: 0.9476\n",
      "Epoch 26/100\n",
      "489/489 [==============================] - 0s 630us/step - loss: 0.1147 - acc: 0.9673 - val_loss: 0.1309 - val_acc: 0.9524\n",
      "Epoch 27/100\n",
      "489/489 [==============================] - 0s 831us/step - loss: 0.1092 - acc: 0.9693 - val_loss: 0.1275 - val_acc: 0.9619\n",
      "Epoch 28/100\n",
      "489/489 [==============================] - 0s 692us/step - loss: 0.1064 - acc: 0.9714 - val_loss: 0.1230 - val_acc: 0.9571\n",
      "Epoch 29/100\n",
      "489/489 [==============================] - 0s 762us/step - loss: 0.1021 - acc: 0.9714 - val_loss: 0.1221 - val_acc: 0.9619\n",
      "Epoch 30/100\n",
      "489/489 [==============================] - 0s 811us/step - loss: 0.0974 - acc: 0.9734 - val_loss: 0.1189 - val_acc: 0.9619\n",
      "Epoch 31/100\n",
      "489/489 [==============================] - 0s 823us/step - loss: 0.0948 - acc: 0.9796 - val_loss: 0.1166 - val_acc: 0.9619\n",
      "Epoch 32/100\n",
      "489/489 [==============================] - 0s 804us/step - loss: 0.0872 - acc: 0.9796 - val_loss: 0.1274 - val_acc: 0.9667\n",
      "Epoch 33/100\n",
      "489/489 [==============================] - 0s 649us/step - loss: 0.0893 - acc: 0.9796 - val_loss: 0.1154 - val_acc: 0.9524\n",
      "Epoch 34/100\n",
      "489/489 [==============================] - 0s 803us/step - loss: 0.0869 - acc: 0.9755 - val_loss: 0.1082 - val_acc: 0.9667\n",
      "Epoch 35/100\n",
      "489/489 [==============================] - 0s 788us/step - loss: 0.0833 - acc: 0.9755 - val_loss: 0.1047 - val_acc: 0.9619\n",
      "Epoch 36/100\n",
      "489/489 [==============================] - 0s 673us/step - loss: 0.0821 - acc: 0.9816 - val_loss: 0.1044 - val_acc: 0.9571\n",
      "Epoch 37/100\n",
      "489/489 [==============================] - 0s 774us/step - loss: 0.0778 - acc: 0.9755 - val_loss: 0.1098 - val_acc: 0.9714\n",
      "Epoch 38/100\n",
      "489/489 [==============================] - 0s 792us/step - loss: 0.0758 - acc: 0.9796 - val_loss: 0.1008 - val_acc: 0.9667\n",
      "Epoch 39/100\n",
      "489/489 [==============================] - 0s 682us/step - loss: 0.0748 - acc: 0.9836 - val_loss: 0.1021 - val_acc: 0.9667\n",
      "Epoch 40/100\n",
      "489/489 [==============================] - 0s 677us/step - loss: 0.0733 - acc: 0.9796 - val_loss: 0.1015 - val_acc: 0.9667\n",
      "Epoch 41/100\n",
      "489/489 [==============================] - 0s 799us/step - loss: 0.0697 - acc: 0.9775 - val_loss: 0.1016 - val_acc: 0.9667\n",
      "Epoch 42/100\n",
      "489/489 [==============================] - 0s 814us/step - loss: 0.0733 - acc: 0.9796 - val_loss: 0.0981 - val_acc: 0.9667\n",
      "Epoch 43/100\n",
      "489/489 [==============================] - 0s 800us/step - loss: 0.0668 - acc: 0.9796 - val_loss: 0.1028 - val_acc: 0.9619\n",
      "Epoch 44/100\n",
      "489/489 [==============================] - 0s 822us/step - loss: 0.0694 - acc: 0.9816 - val_loss: 0.0964 - val_acc: 0.9714\n",
      "Epoch 45/100\n",
      "489/489 [==============================] - 0s 820us/step - loss: 0.0624 - acc: 0.9755 - val_loss: 0.1026 - val_acc: 0.9667\n",
      "Epoch 46/100\n",
      "489/489 [==============================] - 0s 779us/step - loss: 0.0677 - acc: 0.9796 - val_loss: 0.0955 - val_acc: 0.9619\n",
      "Epoch 47/100\n",
      "489/489 [==============================] - 0s 806us/step - loss: 0.0637 - acc: 0.9775 - val_loss: 0.0934 - val_acc: 0.9667\n",
      "Epoch 48/100\n",
      "489/489 [==============================] - 0s 674us/step - loss: 0.0608 - acc: 0.9816 - val_loss: 0.0974 - val_acc: 0.9619\n",
      "Epoch 49/100\n",
      "489/489 [==============================] - 0s 808us/step - loss: 0.0626 - acc: 0.9775 - val_loss: 0.1015 - val_acc: 0.9667\n",
      "Epoch 50/100\n",
      "489/489 [==============================] - 0s 803us/step - loss: 0.0606 - acc: 0.9816 - val_loss: 0.0996 - val_acc: 0.9667\n",
      "Epoch 51/100\n",
      "489/489 [==============================] - 0s 821us/step - loss: 0.0607 - acc: 0.9816 - val_loss: 0.0934 - val_acc: 0.9619\n",
      "Epoch 52/100\n",
      "489/489 [==============================] - 0s 804us/step - loss: 0.0585 - acc: 0.9816 - val_loss: 0.0916 - val_acc: 0.9619\n",
      "Epoch 53/100\n",
      "489/489 [==============================] - 0s 815us/step - loss: 0.0554 - acc: 0.9816 - val_loss: 0.0980 - val_acc: 0.9619\n",
      "Epoch 54/100\n",
      "489/489 [==============================] - 0s 635us/step - loss: 0.0577 - acc: 0.9755 - val_loss: 0.0949 - val_acc: 0.9619\n",
      "Epoch 55/100\n",
      "489/489 [==============================] - 0s 796us/step - loss: 0.0588 - acc: 0.9816 - val_loss: 0.1039 - val_acc: 0.9667\n",
      "Epoch 56/100\n",
      "489/489 [==============================] - 0s 805us/step - loss: 0.0544 - acc: 0.9796 - val_loss: 0.0935 - val_acc: 0.9619\n",
      "Epoch 57/100\n",
      "489/489 [==============================] - 0s 797us/step - loss: 0.0545 - acc: 0.9816 - val_loss: 0.0998 - val_acc: 0.9619\n",
      "Epoch 58/100\n",
      "489/489 [==============================] - 0s 628us/step - loss: 0.0557 - acc: 0.9796 - val_loss: 0.0982 - val_acc: 0.9619\n",
      "Epoch 59/100\n",
      "489/489 [==============================] - 0s 772us/step - loss: 0.0589 - acc: 0.9816 - val_loss: 0.1004 - val_acc: 0.9571\n",
      "Epoch 60/100\n",
      "489/489 [==============================] - 0s 689us/step - loss: 0.0513 - acc: 0.9836 - val_loss: 0.0937 - val_acc: 0.9619\n",
      "Epoch 61/100\n",
      "489/489 [==============================] - 0s 789us/step - loss: 0.0516 - acc: 0.9796 - val_loss: 0.0933 - val_acc: 0.9667\n",
      "Epoch 62/100\n",
      "489/489 [==============================] - 0s 818us/step - loss: 0.0516 - acc: 0.9796 - val_loss: 0.0932 - val_acc: 0.9619\n",
      "Epoch 63/100\n",
      "489/489 [==============================] - 0s 803us/step - loss: 0.0550 - acc: 0.9816 - val_loss: 0.0975 - val_acc: 0.9619\n",
      "Epoch 64/100\n",
      "489/489 [==============================] - 0s 806us/step - loss: 0.0526 - acc: 0.9816 - val_loss: 0.0923 - val_acc: 0.9619\n",
      "Epoch 65/100\n",
      "489/489 [==============================] - 0s 839us/step - loss: 0.0508 - acc: 0.9816 - val_loss: 0.0941 - val_acc: 0.9571\n",
      "Epoch 66/100\n",
      "489/489 [==============================] - 0s 812us/step - loss: 0.0478 - acc: 0.9816 - val_loss: 0.0951 - val_acc: 0.9571\n",
      "Epoch 67/100\n",
      "489/489 [==============================] - 0s 789us/step - loss: 0.0480 - acc: 0.9857 - val_loss: 0.0959 - val_acc: 0.9571\n",
      "Epoch 68/100\n",
      "489/489 [==============================] - 0s 817us/step - loss: 0.0507 - acc: 0.9816 - val_loss: 0.0924 - val_acc: 0.9571\n",
      "Epoch 69/100\n",
      "489/489 [==============================] - 0s 656us/step - loss: 0.0515 - acc: 0.9836 - val_loss: 0.1061 - val_acc: 0.9571\n",
      "Epoch 70/100\n",
      "489/489 [==============================] - 0s 733us/step - loss: 0.0565 - acc: 0.9816 - val_loss: 0.1002 - val_acc: 0.9571\n",
      "Epoch 71/100\n",
      "489/489 [==============================] - 0s 627us/step - loss: 0.0488 - acc: 0.9836 - val_loss: 0.0952 - val_acc: 0.9619\n",
      "Epoch 72/100\n",
      "489/489 [==============================] - 0s 775us/step - loss: 0.0482 - acc: 0.9796 - val_loss: 0.0967 - val_acc: 0.9619\n",
      "Epoch 73/100\n",
      "489/489 [==============================] - 0s 663us/step - loss: 0.0458 - acc: 0.9877 - val_loss: 0.0982 - val_acc: 0.9619\n",
      "Epoch 74/100\n",
      "489/489 [==============================] - 0s 575us/step - loss: 0.0480 - acc: 0.9877 - val_loss: 0.0947 - val_acc: 0.9524\n",
      "Epoch 75/100\n",
      "489/489 [==============================] - 0s 595us/step - loss: 0.0448 - acc: 0.9898 - val_loss: 0.0950 - val_acc: 0.9524\n",
      "Epoch 76/100\n",
      "489/489 [==============================] - 0s 462us/step - loss: 0.0485 - acc: 0.9857 - val_loss: 0.0955 - val_acc: 0.9524\n",
      "Epoch 77/100\n",
      "489/489 [==============================] - 0s 618us/step - loss: 0.0441 - acc: 0.9836 - val_loss: 0.0962 - val_acc: 0.9571\n",
      "Epoch 78/100\n",
      "489/489 [==============================] - 0s 618us/step - loss: 0.0471 - acc: 0.9898 - val_loss: 0.1028 - val_acc: 0.9619\n",
      "Epoch 79/100\n",
      "489/489 [==============================] - 0s 570us/step - loss: 0.0458 - acc: 0.9877 - val_loss: 0.0973 - val_acc: 0.9524\n",
      "Epoch 80/100\n",
      "489/489 [==============================] - 0s 587us/step - loss: 0.0475 - acc: 0.9857 - val_loss: 0.0964 - val_acc: 0.9571\n",
      "Epoch 81/100\n",
      "489/489 [==============================] - 0s 472us/step - loss: 0.0435 - acc: 0.9898 - val_loss: 0.0983 - val_acc: 0.9571\n",
      "Epoch 82/100\n",
      "489/489 [==============================] - 0s 620us/step - loss: 0.0431 - acc: 0.9816 - val_loss: 0.1007 - val_acc: 0.9571\n",
      "Epoch 83/100\n",
      "489/489 [==============================] - 0s 481us/step - loss: 0.0451 - acc: 0.9857 - val_loss: 0.0970 - val_acc: 0.9571\n",
      "Epoch 84/100\n",
      "489/489 [==============================] - 0s 575us/step - loss: 0.0420 - acc: 0.9877 - val_loss: 0.1082 - val_acc: 0.9619\n",
      "Epoch 85/100\n",
      "489/489 [==============================] - 0s 576us/step - loss: 0.0468 - acc: 0.9816 - val_loss: 0.0954 - val_acc: 0.9524\n",
      "Epoch 86/100\n",
      "489/489 [==============================] - 0s 466us/step - loss: 0.0408 - acc: 0.9877 - val_loss: 0.1070 - val_acc: 0.9524\n",
      "Epoch 87/100\n",
      "489/489 [==============================] - 0s 608us/step - loss: 0.0486 - acc: 0.9857 - val_loss: 0.1011 - val_acc: 0.9524\n",
      "Epoch 88/100\n",
      "489/489 [==============================] - 0s 635us/step - loss: 0.0430 - acc: 0.9898 - val_loss: 0.1003 - val_acc: 0.9524\n",
      "Epoch 89/100\n",
      "489/489 [==============================] - 0s 479us/step - loss: 0.0408 - acc: 0.9877 - val_loss: 0.0990 - val_acc: 0.9524\n",
      "Epoch 90/100\n",
      "489/489 [==============================] - 0s 603us/step - loss: 0.0445 - acc: 0.9898 - val_loss: 0.1010 - val_acc: 0.9524\n",
      "Epoch 91/100\n",
      "489/489 [==============================] - 0s 628us/step - loss: 0.0441 - acc: 0.9898 - val_loss: 0.0994 - val_acc: 0.9524\n",
      "Epoch 92/100\n",
      "489/489 [==============================] - 0s 589us/step - loss: 0.0391 - acc: 0.9877 - val_loss: 0.1021 - val_acc: 0.9524\n",
      "Epoch 93/100\n",
      "489/489 [==============================] - 0s 615us/step - loss: 0.0436 - acc: 0.9857 - val_loss: 0.1007 - val_acc: 0.9524\n",
      "Epoch 94/100\n",
      "489/489 [==============================] - 0s 598us/step - loss: 0.0402 - acc: 0.9898 - val_loss: 0.0997 - val_acc: 0.9524\n",
      "Epoch 95/100\n",
      "489/489 [==============================] - 0s 611us/step - loss: 0.0465 - acc: 0.9816 - val_loss: 0.0989 - val_acc: 0.9571\n",
      "Epoch 96/100\n",
      "489/489 [==============================] - 0s 602us/step - loss: 0.0406 - acc: 0.9857 - val_loss: 0.1052 - val_acc: 0.9524\n",
      "Epoch 97/100\n",
      "489/489 [==============================] - 0s 638us/step - loss: 0.0409 - acc: 0.9877 - val_loss: 0.1009 - val_acc: 0.9524\n",
      "Epoch 98/100\n",
      "489/489 [==============================] - 0s 611us/step - loss: 0.0393 - acc: 0.9877 - val_loss: 0.1043 - val_acc: 0.9571\n",
      "Epoch 99/100\n",
      "489/489 [==============================] - 0s 622us/step - loss: 0.0396 - acc: 0.9898 - val_loss: 0.0990 - val_acc: 0.9524\n",
      "Epoch 100/100\n",
      "489/489 [==============================] - 0s 587us/step - loss: 0.0425 - acc: 0.9898 - val_loss: 0.1110 - val_acc: 0.9571\n",
      "210/210 [==============================] - 0s 37us/step\n",
      "\n",
      "acc: 95.71%\n"
     ]
    }
   ],
   "source": [
    "model = Sequential()\n",
    "model.add(Dense(12, input_dim=9, activation='relu'))\n",
    "model.add(Dense(8, activation='relu'))\n",
    "model.add(Dense(len(categories), activation='softmax'))\n",
    "model.compile(loss='binary_crossentropy', optimizer='adam', metrics=['accuracy'])\n",
    "history=model.fit(X_train, y_train, epochs=100, batch_size=10,validation_data=(X_test,y_test))\n",
    "scores = model.evaluate(X_test, y_test)\n",
    "\n",
    "print(\"\\n%s: %.2f%%\" % (model.metrics_names[1], scores[1]*100))\n"
   ]
  },
  {
   "cell_type": "markdown",
   "metadata": {},
   "source": [
    "# Accuracy-95.71%"
   ]
  },
  {
   "cell_type": "code",
   "execution_count": 41,
   "metadata": {},
   "outputs": [],
   "source": [
    "\n",
    "import os\n",
    "\n",
    "import matplotlib.pyplot as plt\n",
    "import numpy as np\n",
    "import sklearn.metrics\n",
    "\n",
    "\n",
    "def plot_history(history):\n",
    "    if history.get('acc') and history.get('val_acc'):\n",
    "        plt.plot(history['acc'], marker='.', label='train_accuracy')\n",
    "        plt.plot(history['val_acc'], marker='.', label='validation_accuracy')\n",
    "        plt.title('Model accuracy')\n",
    "        plt.xlabel('epoch')\n",
    "        plt.ylabel('accuracy')\n",
    "        plt.grid()\n",
    "        plt.legend(loc='lower right')\n",
    "        plt.show()\n",
    "        plt.figure()\n",
    "    \n",
    "\n",
    "    if history.get('loss') and history.get('val_loss'):\n",
    "        plt.plot(history['loss'], marker='.', label='train_loss')\n",
    "        plt.plot(history['val_loss'], marker='.', label='validation_loss')\n",
    "        plt.title('Model loss')\n",
    "        plt.xlabel('epoch')\n",
    "        plt.ylabel('loss')\n",
    "        plt.grid()\n",
    "        plt.legend(loc='lower right')\n",
    "        plt.show()\n",
    "\n",
    "\n",
    "def save_metrics(y_test, y_pred, categories):\n",
    "    y_test = np.argmax(y_test, axis=1)\n",
    "    y_pred = np.argmax(y_pred, axis=1)\n",
    "\n",
    "    classification_report = sklearn.metrics.classification_report(y_test, y_pred, target_names=categories, digits=5)\n",
    "    confusion_matrix = sklearn.metrics.confusion_matrix(y_test, y_pred)\n",
    "    confusion_matrix = confusion_matrix.astype('float')\n",
    "    \n",
    "\n",
    "    plt.imshow(confusion_matrix, interpolation='nearest', cmap='hot')\n",
    "    plt.colorbar()\n",
    "    plt.ylabel('True label')\n",
    "    plt.xlabel('Predicted label')\n",
    "    plt.show()\n",
    "    return confusion_matrix,classification_report\n"
   ]
  },
  {
   "cell_type": "markdown",
   "metadata": {},
   "source": [
    "# Accuracy vs Epochs(knees at 10 epochs & saturates at 40 epochs)\n",
    "\n",
    "# Loss vs Epochs\n",
    "\n"
   ]
  },
  {
   "cell_type": "code",
   "execution_count": 42,
   "metadata": {},
   "outputs": [
    {
     "data": {
      "image/png": "[encoded data removed]",
      "text/plain": [
       "<Figure size 432x288 with 1 Axes>"
      ]
     },
     "metadata": {
      "needs_background": "light"
     },
     "output_type": "display_data"
    },
    {
     "data": {
      "image/png": "[encoded data removed]",
      "text/plain": [
       "<Figure size 432x288 with 1 Axes>"
      ]
     },
     "metadata": {
      "needs_background": "light"
     },
     "output_type": "display_data"
    }
   ],
   "source": [
    "plot_history(history.history)"
   ]
  },
  {
   "cell_type": "markdown",
   "metadata": {},
   "source": [
    "# Predicted Y for X_test  (Solution of  Question 1)"
   ]
  },
  {
   "cell_type": "code",
   "execution_count": 46,
   "metadata": {},
   "outputs": [],
   "source": [
    "y_pred=model.predict(X_test)"
   ]
  },
  {
   "cell_type": "markdown",
   "metadata": {},
   "source": [
    "# Save the model"
   ]
  },
  {
   "cell_type": "code",
   "execution_count": 47,
   "metadata": {},
   "outputs": [
    {
     "name": "stdout",
     "output_type": "stream",
     "text": [
      "Saved model successfully\n"
     ]
    }
   ],
   "source": [
    "def save_model(model):\n",
    "    with open(os.path.join(\".\",\"saved\") + '.json', 'w')as model_file:\n",
    "        model_file.write(model.to_json())\n",
    "    model.save_weights(os.path.join(\".\",\"saved\") + '.h5')\n",
    "    print('Saved model successfully')\n",
    "save_model(model)"
   ]
  },
  {
   "cell_type": "markdown",
   "metadata": {},
   "source": [
    "# Optimize the Threshold to minimize false negative\n",
    "\n",
    "threshold is a function which takes parameters as y_pred and a value(like 0.5) above which we define the tumor is malignant.\n",
    "\n",
    "We vary the threshold for predicting the malignant tumor and plot the respective false negatives and positives to inspect the optimal threshold at which the false negative rate is appreciably low and false positive rate is not noticibly high.\n",
    "\n",
    "From inspection we find such a point at threshold=0.6.This means that when our model is >60% sure that the tumor is malignant,we \n",
    "are safe to inform the patient.\n"
   ]
  },
  {
   "cell_type": "code",
   "execution_count": 45,
   "metadata": {},
   "outputs": [],
   "source": [
    "def threshold(y_pred,val):\n",
    "    y=y_pred[:,1]>val\n",
    "    y=y.astype(\"uint8\")\n",
    "    y = np_utils.to_categorical(y, len(categories))\n",
    "    return y"
   ]
  },
  {
   "cell_type": "code",
   "execution_count": 52,
   "metadata": {},
   "outputs": [],
   "source": [
    "margins=np.arange(0.05,1,step=.05)\n",
    "false_negatives=[]\n",
    "false_positives=[]\n",
    "for margin  in margins:\n",
    "    y_pred_curr=threshold(y_pred,margin)\n",
    "    confusion_matrix = sklearn.metrics.confusion_matrix(np.argmax(y_test, axis=1), np.argmax(y_pred_curr, axis=1)).astype('float')\n",
    "    ((true_positive,false_negative),(false_positive,true_negative))=confusion_matrix\n",
    "    false_positives.append(false_positive)\n",
    "    false_negatives.append(false_negative)"
   ]
  },
  {
   "cell_type": "code",
   "execution_count": 53,
   "metadata": {},
   "outputs": [
    {
     "data": {
      "text/plain": [
       "Text(0.5, 0, 'thresholds')"
      ]
     },
     "execution_count": 53,
     "metadata": {},
     "output_type": "execute_result"
    },
    {
     "data": {
      "image/png": "[encoded data removed]",
      "text/plain": [
       "<Figure size 432x288 with 1 Axes>"
      ]
     },
     "metadata": {
      "needs_background": "light"
     },
     "output_type": "display_data"
    }
   ],
   "source": [
    "plt.plot(margins,false_negatives,label=\"false_negatives\")\n",
    "plt.plot(margins,false_positives,label=\"false_positives\")\n",
    "plt.legend()\n",
    "plt.xlabel(\"thresholds\")"
   ]
  },
  {
   "cell_type": "code",
   "execution_count": 63,
   "metadata": {},
   "outputs": [
    {
     "name": "stdout",
     "output_type": "stream",
     "text": [
      "False Positive 17.0\n",
      "False Negative 2.0\n",
      "number of test cases 699\n",
      "on the threshold of p= 0.6\n"
     ]
    }
   ],
   "source": [
    "y_pred_total=model.predict(X)\n",
    "\n",
    "y_pred_curr=threshold(y_pred_total,0.6)\n",
    "confusion_matrix = sklearn.metrics.confusion_matrix(np.argmax(y, axis=1), np.argmax(y_pred_curr, axis=1)).astype('float')\n",
    "((true_positive,false_negative),(false_positive,true_negative))=confusion_matrix\n",
    "print(\"False Positive\",false_positive)\n",
    "print(\"False Negative\",false_negative)\n",
    "print(\"number of test cases\",len(y_pred_total))\n",
    "print(\"on the threshold of p=\",0.6)"
   ]
  },
  {
   "cell_type": "markdown",
   "metadata": {},
   "source": [
    "# Conclusion\n",
    "In the dataset of 699 cases we find only 2 cases where we fail to predict the existance of malignant tumor in the patient,\n",
    "We also have 17 patients who are erroneously informed of having a malignant tumor."
   ]
  }
 ],
 "metadata": {
  "kernelspec": {
   "display_name": "Python 3",
   "language": "python",
   "name": "python3"
  },
  "language_info": {
   "codemirror_mode": {
    "name": "ipython",
    "version": 3
   },
   "file_extension": ".py",
   "mimetype": "text/x-python",
   "name": "python",
   "nbconvert_exporter": "python",
   "pygments_lexer": "ipython3",
   "version": "3.6.6"
  }
 },
 "nbformat": 4,
 "nbformat_minor": 2
}
