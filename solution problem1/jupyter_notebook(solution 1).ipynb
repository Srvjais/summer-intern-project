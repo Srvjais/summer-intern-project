{
 "cells": [
  {
   "cell_type": "markdown",
   "metadata": {},
   "source": [
    "## Installing External Dependencies"
   ]
  },
  {
   "cell_type": "code",
   "execution_count": null,
   "metadata": {
    "scrolled": true
   },
   "outputs": [],
   "source": [
    "!pip install keras\n",
    "!pip install tensorflow\n",
    "!pip install seaborn"
   ]
  },
  {
   "cell_type": "markdown",
   "metadata": {},
   "source": [
    "## Importing Libraries"
   ]
  },
  {
   "cell_type": "code",
   "execution_count": 1,
   "metadata": {},
   "outputs": [],
   "source": [
    "import pandas as pd\n",
    "import numpy as np\n",
    "import matplotlib.pyplot as plt"
   ]
  },
  {
   "cell_type": "markdown",
   "metadata": {},
   "source": [
    "## Loading Dataset "
   ]
  },
  {
   "cell_type": "code",
   "execution_count": 2,
   "metadata": {},
   "outputs": [
    {
     "data": {
      "text/html": [
       "<div>\n",
       "<style scoped>\n",
       "    .dataframe tbody tr th:only-of-type {\n",
       "        vertical-align: middle;\n",
       "    }\n",
       "\n",
       "    .dataframe tbody tr th {\n",
       "        vertical-align: top;\n",
       "    }\n",
       "\n",
       "    .dataframe thead th {\n",
       "        text-align: right;\n",
       "    }\n",
       "</style>\n",
       "<table border=\"1\" class=\"dataframe\">\n",
       "  <thead>\n",
       "    <tr style=\"text-align: right;\">\n",
       "      <th></th>\n",
       "      <th>User country</th>\n",
       "      <th>Nr. reviews</th>\n",
       "      <th>Nr. hotel reviews</th>\n",
       "      <th>Helpful votes</th>\n",
       "      <th>Score</th>\n",
       "      <th>Period of stay</th>\n",
       "      <th>Traveler type</th>\n",
       "      <th>Swimming Pool</th>\n",
       "      <th>Exercise Room</th>\n",
       "      <th>Basketball Court</th>\n",
       "      <th>Yoga Classes</th>\n",
       "      <th>Club</th>\n",
       "      <th>Free Wifi</th>\n",
       "      <th>Hotel name</th>\n",
       "      <th>Hotel stars</th>\n",
       "      <th>Nr. rooms</th>\n",
       "      <th>User continent</th>\n",
       "      <th>Member years</th>\n",
       "      <th>Review month</th>\n",
       "      <th>Review weekday</th>\n",
       "    </tr>\n",
       "  </thead>\n",
       "  <tbody>\n",
       "    <tr>\n",
       "      <th>0</th>\n",
       "      <td>USA</td>\n",
       "      <td>11</td>\n",
       "      <td>4</td>\n",
       "      <td>13</td>\n",
       "      <td>5</td>\n",
       "      <td>Dec-Feb</td>\n",
       "      <td>Friends</td>\n",
       "      <td>NO</td>\n",
       "      <td>YES</td>\n",
       "      <td>NO</td>\n",
       "      <td>NO</td>\n",
       "      <td>YES</td>\n",
       "      <td>YES</td>\n",
       "      <td>Circus Circus Hotel &amp; Casino Las Vegas</td>\n",
       "      <td>3</td>\n",
       "      <td>3773</td>\n",
       "      <td>North America</td>\n",
       "      <td>9</td>\n",
       "      <td>January</td>\n",
       "      <td>Thursday</td>\n",
       "    </tr>\n",
       "    <tr>\n",
       "      <th>1</th>\n",
       "      <td>USA</td>\n",
       "      <td>119</td>\n",
       "      <td>21</td>\n",
       "      <td>75</td>\n",
       "      <td>3</td>\n",
       "      <td>Dec-Feb</td>\n",
       "      <td>Business</td>\n",
       "      <td>NO</td>\n",
       "      <td>YES</td>\n",
       "      <td>NO</td>\n",
       "      <td>NO</td>\n",
       "      <td>YES</td>\n",
       "      <td>YES</td>\n",
       "      <td>Circus Circus Hotel &amp; Casino Las Vegas</td>\n",
       "      <td>3</td>\n",
       "      <td>3773</td>\n",
       "      <td>North America</td>\n",
       "      <td>3</td>\n",
       "      <td>January</td>\n",
       "      <td>Friday</td>\n",
       "    </tr>\n",
       "    <tr>\n",
       "      <th>2</th>\n",
       "      <td>USA</td>\n",
       "      <td>36</td>\n",
       "      <td>9</td>\n",
       "      <td>25</td>\n",
       "      <td>5</td>\n",
       "      <td>Mar-May</td>\n",
       "      <td>Families</td>\n",
       "      <td>NO</td>\n",
       "      <td>YES</td>\n",
       "      <td>NO</td>\n",
       "      <td>NO</td>\n",
       "      <td>YES</td>\n",
       "      <td>YES</td>\n",
       "      <td>Circus Circus Hotel &amp; Casino Las Vegas</td>\n",
       "      <td>3</td>\n",
       "      <td>3773</td>\n",
       "      <td>North America</td>\n",
       "      <td>2</td>\n",
       "      <td>February</td>\n",
       "      <td>Saturday</td>\n",
       "    </tr>\n",
       "  </tbody>\n",
       "</table>\n",
       "</div>"
      ],
      "text/plain": [
       "  User country  Nr. reviews  Nr. hotel reviews  Helpful votes  Score  \\\n",
       "0          USA           11                  4             13      5   \n",
       "1          USA          119                 21             75      3   \n",
       "2          USA           36                  9             25      5   \n",
       "\n",
       "  Period of stay Traveler type Swimming Pool Exercise Room Basketball Court  \\\n",
       "0        Dec-Feb       Friends            NO           YES               NO   \n",
       "1        Dec-Feb      Business            NO           YES               NO   \n",
       "2        Mar-May      Families            NO           YES               NO   \n",
       "\n",
       "  Yoga Classes Club Free Wifi                              Hotel name  \\\n",
       "0           NO  YES       YES  Circus Circus Hotel & Casino Las Vegas   \n",
       "1           NO  YES       YES  Circus Circus Hotel & Casino Las Vegas   \n",
       "2           NO  YES       YES  Circus Circus Hotel & Casino Las Vegas   \n",
       "\n",
       "  Hotel stars  Nr. rooms User continent  Member years Review month  \\\n",
       "0           3       3773  North America             9      January   \n",
       "1           3       3773  North America             3      January   \n",
       "2           3       3773  North America             2     February   \n",
       "\n",
       "  Review weekday  \n",
       "0       Thursday  \n",
       "1         Friday  \n",
       "2       Saturday  "
      ]
     },
     "execution_count": 2,
     "metadata": {},
     "output_type": "execute_result"
    }
   ],
   "source": [
    "data=pd.read_csv('Dataset1.csv')\n",
    "data.head(3)"
   ]
  },
  {
   "cell_type": "markdown",
   "metadata": {},
   "source": [
    "## Combining the Hotel Name and Hotel Room Features\n",
    "Hotel room is not independent of the actual hotel name. Precisely, Room 1 in Hotel A is not the same as Room 1 in Hotel B. Hence we need to concatenate these features to form a new feature and drop the old hotel rooms feature."
   ]
  },
  {
   "cell_type": "code",
   "execution_count": 3,
   "metadata": {},
   "outputs": [
    {
     "data": {
      "text/html": [
       "<div>\n",
       "<style scoped>\n",
       "    .dataframe tbody tr th:only-of-type {\n",
       "        vertical-align: middle;\n",
       "    }\n",
       "\n",
       "    .dataframe tbody tr th {\n",
       "        vertical-align: top;\n",
       "    }\n",
       "\n",
       "    .dataframe thead th {\n",
       "        text-align: right;\n",
       "    }\n",
       "</style>\n",
       "<table border=\"1\" class=\"dataframe\">\n",
       "  <thead>\n",
       "    <tr style=\"text-align: right;\">\n",
       "      <th></th>\n",
       "      <th>User country</th>\n",
       "      <th>Nr. reviews</th>\n",
       "      <th>Nr. hotel reviews</th>\n",
       "      <th>Helpful votes</th>\n",
       "      <th>Score</th>\n",
       "      <th>Period of stay</th>\n",
       "      <th>Traveler type</th>\n",
       "      <th>Swimming Pool</th>\n",
       "      <th>Exercise Room</th>\n",
       "      <th>Basketball Court</th>\n",
       "      <th>Yoga Classes</th>\n",
       "      <th>Club</th>\n",
       "      <th>Free Wifi</th>\n",
       "      <th>Hotel stars</th>\n",
       "      <th>User continent</th>\n",
       "      <th>Member years</th>\n",
       "      <th>Review month</th>\n",
       "      <th>Review weekday</th>\n",
       "      <th>Hotel-Room</th>\n",
       "    </tr>\n",
       "  </thead>\n",
       "  <tbody>\n",
       "    <tr>\n",
       "      <th>0</th>\n",
       "      <td>USA</td>\n",
       "      <td>11</td>\n",
       "      <td>4</td>\n",
       "      <td>13</td>\n",
       "      <td>5</td>\n",
       "      <td>Dec-Feb</td>\n",
       "      <td>Friends</td>\n",
       "      <td>NO</td>\n",
       "      <td>YES</td>\n",
       "      <td>NO</td>\n",
       "      <td>NO</td>\n",
       "      <td>YES</td>\n",
       "      <td>YES</td>\n",
       "      <td>3</td>\n",
       "      <td>North America</td>\n",
       "      <td>9</td>\n",
       "      <td>January</td>\n",
       "      <td>Thursday</td>\n",
       "      <td>Circus Circus Hotel &amp; Casino Las Vegas3773</td>\n",
       "    </tr>\n",
       "    <tr>\n",
       "      <th>1</th>\n",
       "      <td>USA</td>\n",
       "      <td>119</td>\n",
       "      <td>21</td>\n",
       "      <td>75</td>\n",
       "      <td>3</td>\n",
       "      <td>Dec-Feb</td>\n",
       "      <td>Business</td>\n",
       "      <td>NO</td>\n",
       "      <td>YES</td>\n",
       "      <td>NO</td>\n",
       "      <td>NO</td>\n",
       "      <td>YES</td>\n",
       "      <td>YES</td>\n",
       "      <td>3</td>\n",
       "      <td>North America</td>\n",
       "      <td>3</td>\n",
       "      <td>January</td>\n",
       "      <td>Friday</td>\n",
       "      <td>Circus Circus Hotel &amp; Casino Las Vegas3773</td>\n",
       "    </tr>\n",
       "    <tr>\n",
       "      <th>2</th>\n",
       "      <td>USA</td>\n",
       "      <td>36</td>\n",
       "      <td>9</td>\n",
       "      <td>25</td>\n",
       "      <td>5</td>\n",
       "      <td>Mar-May</td>\n",
       "      <td>Families</td>\n",
       "      <td>NO</td>\n",
       "      <td>YES</td>\n",
       "      <td>NO</td>\n",
       "      <td>NO</td>\n",
       "      <td>YES</td>\n",
       "      <td>YES</td>\n",
       "      <td>3</td>\n",
       "      <td>North America</td>\n",
       "      <td>2</td>\n",
       "      <td>February</td>\n",
       "      <td>Saturday</td>\n",
       "      <td>Circus Circus Hotel &amp; Casino Las Vegas3773</td>\n",
       "    </tr>\n",
       "  </tbody>\n",
       "</table>\n",
       "</div>"
      ],
      "text/plain": [
       "  User country  Nr. reviews  Nr. hotel reviews  Helpful votes  Score  \\\n",
       "0          USA           11                  4             13      5   \n",
       "1          USA          119                 21             75      3   \n",
       "2          USA           36                  9             25      5   \n",
       "\n",
       "  Period of stay Traveler type Swimming Pool Exercise Room Basketball Court  \\\n",
       "0        Dec-Feb       Friends            NO           YES               NO   \n",
       "1        Dec-Feb      Business            NO           YES               NO   \n",
       "2        Mar-May      Families            NO           YES               NO   \n",
       "\n",
       "  Yoga Classes Club Free Wifi Hotel stars User continent  Member years  \\\n",
       "0           NO  YES       YES           3  North America             9   \n",
       "1           NO  YES       YES           3  North America             3   \n",
       "2           NO  YES       YES           3  North America             2   \n",
       "\n",
       "  Review month Review weekday                                  Hotel-Room  \n",
       "0      January       Thursday  Circus Circus Hotel & Casino Las Vegas3773  \n",
       "1      January         Friday  Circus Circus Hotel & Casino Las Vegas3773  \n",
       "2     February       Saturday  Circus Circus Hotel & Casino Las Vegas3773  "
      ]
     },
     "execution_count": 3,
     "metadata": {},
     "output_type": "execute_result"
    }
   ],
   "source": [
    "data['Hotel-Room']=data['Hotel name']+data['Nr. rooms'].map(str)\n",
    "data.drop('Hotel name',axis=1,inplace=True)\n",
    "data.drop('Nr. rooms',axis=1,inplace=True)\n",
    "data.head(3)"
   ]
  },
  {
   "cell_type": "code",
   "execution_count": 4,
   "metadata": {},
   "outputs": [
    {
     "data": {
      "text/plain": [
       "User country          object\n",
       "Nr. reviews            int64\n",
       "Nr. hotel reviews      int64\n",
       "Helpful votes          int64\n",
       "Score                  int64\n",
       "Period of stay        object\n",
       "Traveler type         object\n",
       "Swimming Pool         object\n",
       "Exercise Room         object\n",
       "Basketball Court      object\n",
       "Yoga Classes          object\n",
       "Club                  object\n",
       "Free Wifi             object\n",
       "Hotel stars          float64\n",
       "User continent        object\n",
       "Member years           int64\n",
       "Review month          object\n",
       "Review weekday        object\n",
       "Hotel-Room            object\n",
       "dtype: object"
      ]
     },
     "execution_count": 4,
     "metadata": {},
     "output_type": "execute_result"
    }
   ],
   "source": [
    "data['Hotel stars']=data['Hotel stars'].apply(lambda x:np.mean(list(map(int,x.split(',')))))\n",
    "data.dtypes"
   ]
  },
  {
   "cell_type": "markdown",
   "metadata": {},
   "source": [
    "## Removing Outliers\n",
    "The column Member years contains an outlier having value as -ve. We remove this row completely to avoid polluting the dataset."
   ]
  },
  {
   "cell_type": "code",
   "execution_count": 5,
   "metadata": {},
   "outputs": [
    {
     "name": "stdout",
     "output_type": "stream",
     "text": [
      "       Nr. reviews  Nr. hotel reviews  Helpful votes       Score  Hotel stars  \\\n",
      "count   504.000000         504.000000     504.000000  504.000000   504.000000   \n",
      "mean     48.130952          16.023810      31.751984    4.123016     4.214286   \n",
      "std      74.996426          23.957953      48.520783    1.007302     0.733814   \n",
      "min       1.000000           0.000000       0.000000    1.000000     3.000000   \n",
      "25%      12.000000           5.000000       8.000000    4.000000     4.000000   \n",
      "50%      23.500000           9.000000      16.000000    4.000000     4.000000   \n",
      "75%      54.250000          18.000000      35.000000    5.000000     5.000000   \n",
      "max     775.000000         263.000000     365.000000    5.000000     5.000000   \n",
      "\n",
      "       Member years  \n",
      "count    504.000000  \n",
      "mean       0.767857  \n",
      "std       80.692897  \n",
      "min    -1806.000000  \n",
      "25%        2.000000  \n",
      "50%        4.000000  \n",
      "75%        6.000000  \n",
      "max       13.000000  \n"
     ]
    }
   ],
   "source": [
    "print(data.describe())\n",
    "idx=(data['Member years']<0).idxmax()\n",
    "data.drop(idx,inplace=True)"
   ]
  },
  {
   "cell_type": "markdown",
   "metadata": {},
   "source": [
    "## One Hot Encoding the Categorical Classes\n",
    "For categorical quantities it is essential to one hot encode them (LabelBinarization). We cannot simply label encode them as they do not form an intrinsically continuous series. We here provide code for both these methods but OneHotEncodeing is always superior so we use that one. Moreover, if we require to process further data, we will need the encoders used on the training dataset so we store them in the encoders dictionary for later use."
   ]
  },
  {
   "cell_type": "code",
   "execution_count": 6,
   "metadata": {},
   "outputs": [
    {
     "data": {
      "text/html": [
       "<div>\n",
       "<style scoped>\n",
       "    .dataframe tbody tr th:only-of-type {\n",
       "        vertical-align: middle;\n",
       "    }\n",
       "\n",
       "    .dataframe tbody tr th {\n",
       "        vertical-align: top;\n",
       "    }\n",
       "\n",
       "    .dataframe thead th {\n",
       "        text-align: right;\n",
       "    }\n",
       "</style>\n",
       "<table border=\"1\" class=\"dataframe\">\n",
       "  <thead>\n",
       "    <tr style=\"text-align: right;\">\n",
       "      <th></th>\n",
       "      <th>Nr. reviews</th>\n",
       "      <th>Nr. hotel reviews</th>\n",
       "      <th>Helpful votes</th>\n",
       "      <th>Score</th>\n",
       "      <th>Hotel stars</th>\n",
       "      <th>Member years</th>\n",
       "      <th>Australia</th>\n",
       "      <th>Belgium</th>\n",
       "      <th>Brazil</th>\n",
       "      <th>Canada</th>\n",
       "      <th>...</th>\n",
       "      <th>The Cromwell188</th>\n",
       "      <th>The Palazzo Resort Hotel Casino3025</th>\n",
       "      <th>The Venetian Las Vegas Hotel4027</th>\n",
       "      <th>The Westin las Vegas Hotel Casino &amp; Spa826</th>\n",
       "      <th>Treasure Island- TI Hotel &amp; Casino2884</th>\n",
       "      <th>Tropicana Las Vegas - A Double Tree by Hilton Hotel1467</th>\n",
       "      <th>Trump International Hotel Las Vegas1282</th>\n",
       "      <th>Tuscany Las Vegas Suites &amp; Casino716</th>\n",
       "      <th>Wyndham Grand Desert787</th>\n",
       "      <th>Wynn Las Vegas2700</th>\n",
       "    </tr>\n",
       "  </thead>\n",
       "  <tbody>\n",
       "    <tr>\n",
       "      <th>0</th>\n",
       "      <td>11</td>\n",
       "      <td>4</td>\n",
       "      <td>13</td>\n",
       "      <td>5</td>\n",
       "      <td>3.0</td>\n",
       "      <td>9</td>\n",
       "      <td>0</td>\n",
       "      <td>0</td>\n",
       "      <td>0</td>\n",
       "      <td>0</td>\n",
       "      <td>...</td>\n",
       "      <td>0</td>\n",
       "      <td>0</td>\n",
       "      <td>0</td>\n",
       "      <td>0</td>\n",
       "      <td>0</td>\n",
       "      <td>0</td>\n",
       "      <td>0</td>\n",
       "      <td>0</td>\n",
       "      <td>0</td>\n",
       "      <td>0</td>\n",
       "    </tr>\n",
       "    <tr>\n",
       "      <th>1</th>\n",
       "      <td>119</td>\n",
       "      <td>21</td>\n",
       "      <td>75</td>\n",
       "      <td>3</td>\n",
       "      <td>3.0</td>\n",
       "      <td>3</td>\n",
       "      <td>0</td>\n",
       "      <td>0</td>\n",
       "      <td>0</td>\n",
       "      <td>0</td>\n",
       "      <td>...</td>\n",
       "      <td>0</td>\n",
       "      <td>0</td>\n",
       "      <td>0</td>\n",
       "      <td>0</td>\n",
       "      <td>0</td>\n",
       "      <td>0</td>\n",
       "      <td>0</td>\n",
       "      <td>0</td>\n",
       "      <td>0</td>\n",
       "      <td>0</td>\n",
       "    </tr>\n",
       "    <tr>\n",
       "      <th>2</th>\n",
       "      <td>36</td>\n",
       "      <td>9</td>\n",
       "      <td>25</td>\n",
       "      <td>5</td>\n",
       "      <td>3.0</td>\n",
       "      <td>2</td>\n",
       "      <td>0</td>\n",
       "      <td>0</td>\n",
       "      <td>0</td>\n",
       "      <td>0</td>\n",
       "      <td>...</td>\n",
       "      <td>0</td>\n",
       "      <td>0</td>\n",
       "      <td>0</td>\n",
       "      <td>0</td>\n",
       "      <td>0</td>\n",
       "      <td>0</td>\n",
       "      <td>0</td>\n",
       "      <td>0</td>\n",
       "      <td>0</td>\n",
       "      <td>0</td>\n",
       "    </tr>\n",
       "    <tr>\n",
       "      <th>3</th>\n",
       "      <td>14</td>\n",
       "      <td>7</td>\n",
       "      <td>14</td>\n",
       "      <td>4</td>\n",
       "      <td>3.0</td>\n",
       "      <td>6</td>\n",
       "      <td>0</td>\n",
       "      <td>0</td>\n",
       "      <td>0</td>\n",
       "      <td>0</td>\n",
       "      <td>...</td>\n",
       "      <td>0</td>\n",
       "      <td>0</td>\n",
       "      <td>0</td>\n",
       "      <td>0</td>\n",
       "      <td>0</td>\n",
       "      <td>0</td>\n",
       "      <td>0</td>\n",
       "      <td>0</td>\n",
       "      <td>0</td>\n",
       "      <td>0</td>\n",
       "    </tr>\n",
       "    <tr>\n",
       "      <th>4</th>\n",
       "      <td>5</td>\n",
       "      <td>5</td>\n",
       "      <td>2</td>\n",
       "      <td>4</td>\n",
       "      <td>3.0</td>\n",
       "      <td>7</td>\n",
       "      <td>0</td>\n",
       "      <td>0</td>\n",
       "      <td>0</td>\n",
       "      <td>1</td>\n",
       "      <td>...</td>\n",
       "      <td>0</td>\n",
       "      <td>0</td>\n",
       "      <td>0</td>\n",
       "      <td>0</td>\n",
       "      <td>0</td>\n",
       "      <td>0</td>\n",
       "      <td>0</td>\n",
       "      <td>0</td>\n",
       "      <td>0</td>\n",
       "      <td>0</td>\n",
       "    </tr>\n",
       "  </tbody>\n",
       "</table>\n",
       "<p>5 rows × 115 columns</p>\n",
       "</div>"
      ],
      "text/plain": [
       "   Nr. reviews  Nr. hotel reviews  Helpful votes  Score  Hotel stars  \\\n",
       "0           11                  4             13      5          3.0   \n",
       "1          119                 21             75      3          3.0   \n",
       "2           36                  9             25      5          3.0   \n",
       "3           14                  7             14      4          3.0   \n",
       "4            5                  5              2      4          3.0   \n",
       "\n",
       "   Member years  Australia  Belgium  Brazil  Canada         ...          \\\n",
       "0             9          0        0       0       0         ...           \n",
       "1             3          0        0       0       0         ...           \n",
       "2             2          0        0       0       0         ...           \n",
       "3             6          0        0       0       0         ...           \n",
       "4             7          0        0       0       1         ...           \n",
       "\n",
       "   The Cromwell188  The Palazzo Resort Hotel Casino3025  \\\n",
       "0                0                                    0   \n",
       "1                0                                    0   \n",
       "2                0                                    0   \n",
       "3                0                                    0   \n",
       "4                0                                    0   \n",
       "\n",
       "   The Venetian Las Vegas Hotel4027  \\\n",
       "0                                 0   \n",
       "1                                 0   \n",
       "2                                 0   \n",
       "3                                 0   \n",
       "4                                 0   \n",
       "\n",
       "   The Westin las Vegas Hotel Casino & Spa826  \\\n",
       "0                                           0   \n",
       "1                                           0   \n",
       "2                                           0   \n",
       "3                                           0   \n",
       "4                                           0   \n",
       "\n",
       "   Treasure Island- TI Hotel & Casino2884  \\\n",
       "0                                       0   \n",
       "1                                       0   \n",
       "2                                       0   \n",
       "3                                       0   \n",
       "4                                       0   \n",
       "\n",
       "   Tropicana Las Vegas - A Double Tree by Hilton Hotel1467  \\\n",
       "0                                                  0         \n",
       "1                                                  0         \n",
       "2                                                  0         \n",
       "3                                                  0         \n",
       "4                                                  0         \n",
       "\n",
       "   Trump International Hotel Las Vegas1282  \\\n",
       "0                                        0   \n",
       "1                                        0   \n",
       "2                                        0   \n",
       "3                                        0   \n",
       "4                                        0   \n",
       "\n",
       "   Tuscany Las Vegas Suites & Casino716  Wyndham Grand Desert787  \\\n",
       "0                                     0                        0   \n",
       "1                                     0                        0   \n",
       "2                                     0                        0   \n",
       "3                                     0                        0   \n",
       "4                                     0                        0   \n",
       "\n",
       "   Wynn Las Vegas2700  \n",
       "0                   0  \n",
       "1                   0  \n",
       "2                   0  \n",
       "3                   0  \n",
       "4                   0  \n",
       "\n",
       "[5 rows x 115 columns]"
      ]
     },
     "execution_count": 6,
     "metadata": {},
     "output_type": "execute_result"
    }
   ],
   "source": [
    "from collections import defaultdict\n",
    "from sklearn.preprocessing import LabelBinarizer\n",
    "encoders = defaultdict(LabelBinarizer)\n",
    "categorical_columns = data.select_dtypes(include=['object']).columns\n",
    "for categorical_column in categorical_columns:\n",
    "    enc=encoders[categorical_column]\n",
    "    one_hot_encoding=enc.fit_transform(data[categorical_column])\n",
    "    if len(enc.classes_) ==2:\n",
    "        data[categorical_column+' binary'] = one_hot_encoding\n",
    "    else:\n",
    "        for i,column in enumerate(encoders[categorical_column].classes_):\n",
    "            data[column]=one_hot_encoding[:,i]\n",
    "data.drop(categorical_columns, axis=1, inplace=True)\n",
    "data.head()"
   ]
  },
  {
   "cell_type": "code",
   "execution_count": 7,
   "metadata": {},
   "outputs": [],
   "source": [
    "#Not Used\n",
    "\"\"\"\n",
    "    from collections import defaultdict\n",
    "    from sklearn.preprocessing import LabelEncoder\n",
    "    encoders = defaultdict(LabelEncoder)\n",
    "    categorical_columns = data.select_dtypes(include='object').columns\n",
    "    data[categorical_columns]=data[categorical_columns].apply(lambda x: encoders[x.name].fit_transform(x))\n",
    "    data.head()\n",
    "\"\"\";"
   ]
  },
  {
   "cell_type": "markdown",
   "metadata": {},
   "source": [
    "# Append the 'score' column to the end"
   ]
  },
  {
   "cell_type": "code",
   "execution_count": 12,
   "metadata": {},
   "outputs": [
    {
     "name": "stdout",
     "output_type": "stream",
     "text": [
      "['Nr. reviews', 'Nr. hotel reviews', 'Helpful votes', 'Hotel stars', 'Member years', 'Australia', 'Belgium', 'Brazil', 'Canada', 'China', 'Costa Rica', 'Croatia', 'Czech Republic', 'Denmark', 'Egypt', 'Finland', 'France', 'Germany', 'Greece', 'Hawaii', 'Honduras', 'Hungary', 'India', 'India ', 'Iran', 'Ireland', 'Israel', 'Italy', 'Japan', 'Jordan', 'Kenya', 'Korea', 'Kuwait', 'Malaysia', 'Mexico', 'Netherlands', 'New Zeland', 'Norway', 'Phillippines', 'Puerto Rico', 'Saudi Arabia', 'Scotland', 'Singapore', 'South Africa', 'Spain', 'Swiss', 'Switzerland', 'Syria', 'Taiwan', 'Thailand', 'UK', 'USA', 'United Arab Emirates', 'Dec-Feb', 'Jun-Aug', 'Mar-May', 'Sep-Nov', 'Business', 'Couples', 'Families', 'Friends', 'Solo', 'Swimming Pool binary', 'Exercise Room binary', 'Basketball Court binary', 'Yoga Classes binary', 'Club binary', 'Free Wifi binary', 'Africa', 'Asia', 'Europe', 'North America', 'Oceania', 'South America', 'April', 'August', 'December', 'February', 'January', 'July', 'June', 'March', 'May', 'November', 'October', 'September', 'Friday', 'Monday', 'Saturday', 'Sunday', 'Thursday', 'Tuesday', 'Wednesday', 'Bellagio Las Vegas3933', 'Caesars Palace3348', 'Circus Circus Hotel & Casino Las Vegas3773', 'Encore at wynn Las Vegas2034', 'Excalibur Hotel & Casino3981', 'Hilton Grand Vacations at the Flamingo315', 'Hilton Grand Vacations on the Boulevard1228', \"Marriott's Grand Chateau732\", 'Monte Carlo Resort&Casino3003', 'Paris Las Vegas2916', 'The Cosmopolitan Las Vegas2959', 'The Cromwell188', 'The Palazzo Resort Hotel Casino3025', 'The Venetian Las Vegas Hotel4027', 'The Westin las Vegas Hotel Casino & Spa826', 'Treasure Island- TI Hotel & Casino2884', 'Tropicana Las Vegas - A Double Tree by Hilton Hotel1467', 'Trump International Hotel Las Vegas1282', 'Tuscany Las Vegas Suites & Casino716', 'Wyndham Grand Desert787', 'Wynn Las Vegas2700', 'Score']\n"
     ]
    }
   ],
   "source": [
    "cols=data.columns.tolist()\n",
    "cols.remove('Score')\n",
    "cols.append('Score')\n",
    "data=data[cols]\n",
    "print(cols)"
   ]
  },
  {
   "cell_type": "markdown",
   "metadata": {},
   "source": [
    "## Convert to numpy ndarray and convert y to categorical variable\n",
    "It is the requrement of keras that multiclass data should be converted into categorical format."
   ]
  },
  {
   "cell_type": "code",
   "execution_count": 13,
   "metadata": {},
   "outputs": [],
   "source": [
    "from keras.utils import np_utils\n",
    "categories=['score '+str(i) for i in range(5)]\n",
    "X=data.drop('Score',axis=1).values\n",
    "y=data['Score'].values-1"
   ]
  },
  {
   "cell_type": "code",
   "execution_count": 15,
   "metadata": {},
   "outputs": [
    {
     "name": "stdout",
     "output_type": "stream",
     "text": [
      "(503, 114)\n",
      "(503, 5)\n"
     ]
    }
   ],
   "source": [
    "y = np_utils.to_categorical(y, len(categories))\n",
    "print(X.shape)\n",
    "print(y.shape)"
   ]
  },
  {
   "cell_type": "code",
   "execution_count": 16,
   "metadata": {},
   "outputs": [
    {
     "data": {
      "text/plain": [
       "Counter({5: 226, 3: 72, 4: 164, 2: 30, 1: 11})"
      ]
     },
     "execution_count": 16,
     "metadata": {},
     "output_type": "execute_result"
    }
   ],
   "source": [
    "from collections import Counter\n",
    "Counter(list(np.argmax(y,axis=1)+1))\n"
   ]
  },
  {
   "cell_type": "markdown",
   "metadata": {},
   "source": [
    "## Split Data into Train and Test sets\n",
    "For validation we need to keep a portion of the dataset seperate to evaluate our model later. `train_test_split` also automatically shuffles the dataset so validation is more accurate."
   ]
  },
  {
   "cell_type": "code",
   "execution_count": 17,
   "metadata": {},
   "outputs": [],
   "source": [
    "from sklearn.model_selection import train_test_split\n",
    "X_train, X_test, y_train, y_test = train_test_split(X, y, test_size=0.33, random_state=42,stratify=y)"
   ]
  },
  {
   "cell_type": "markdown",
   "metadata": {},
   "source": [
    "## First Attempt: Random Forest\n",
    "We see that random forest is not capable of handling this dataset as it performs poorly even with generous depth."
   ]
  },
  {
   "cell_type": "code",
   "execution_count": 18,
   "metadata": {},
   "outputs": [
    {
     "name": "stderr",
     "output_type": "stream",
     "text": [
      "/srv/conda/lib/python3.6/site-packages/sklearn/ensemble/weight_boosting.py:29: DeprecationWarning: numpy.core.umath_tests is an internal NumPy module and should not be imported. It will be removed in a future NumPy release.\n",
      "  from numpy.core.umath_tests import inner1d\n"
     ]
    },
    {
     "data": {
      "text/plain": [
       "0.25301204819277107"
      ]
     },
     "execution_count": 18,
     "metadata": {},
     "output_type": "execute_result"
    }
   ],
   "source": [
    "from sklearn.ensemble  import RandomForestClassifier\n",
    "dt = RandomForestClassifier(n_estimators=200, max_depth=18,random_state=0)\n",
    "history=dt.fit(X_train, y_train)\n",
    "dt.score(X_test, y_test)"
   ]
  },
  {
   "cell_type": "markdown",
   "metadata": {},
   "source": [
    "## Attempt Two: Neural Net\n",
    "Performs significantly better and is able to double the performance "
   ]
  },
  {
   "cell_type": "code",
   "execution_count": 19,
   "metadata": {},
   "outputs": [
    {
     "name": "stdout",
     "output_type": "stream",
     "text": [
      "Train on 337 samples, validate on 166 samples\n",
      "Epoch 1/50\n",
      "337/337 [==============================] - 0s 1ms/step - loss: 1.9308 - acc: 0.3531 - val_loss: 1.4718 - val_acc: 0.3855\n",
      "Epoch 2/50\n",
      "337/337 [==============================] - 0s 449us/step - loss: 1.4962 - acc: 0.4154 - val_loss: 1.3129 - val_acc: 0.4578\n",
      "Epoch 3/50\n",
      "337/337 [==============================] - 0s 332us/step - loss: 1.3766 - acc: 0.4748 - val_loss: 1.4564 - val_acc: 0.4036\n",
      "Epoch 4/50\n",
      "337/337 [==============================] - 0s 334us/step - loss: 1.3255 - acc: 0.4718 - val_loss: 1.4374 - val_acc: 0.4217\n",
      "Epoch 5/50\n",
      "337/337 [==============================] - 0s 489us/step - loss: 1.2861 - acc: 0.4866 - val_loss: 1.2891 - val_acc: 0.4639\n",
      "Epoch 6/50\n",
      "337/337 [==============================] - 0s 336us/step - loss: 1.2512 - acc: 0.4985 - val_loss: 1.3446 - val_acc: 0.4458\n",
      "Epoch 7/50\n",
      "337/337 [==============================] - 0s 326us/step - loss: 1.2413 - acc: 0.4985 - val_loss: 1.3411 - val_acc: 0.4518\n",
      "Epoch 8/50\n",
      "337/337 [==============================] - 0s 496us/step - loss: 1.2284 - acc: 0.5074 - val_loss: 1.3080 - val_acc: 0.4639\n",
      "Epoch 9/50\n",
      "337/337 [==============================] - 0s 341us/step - loss: 1.2104 - acc: 0.5193 - val_loss: 1.3023 - val_acc: 0.4639\n",
      "Epoch 10/50\n",
      "337/337 [==============================] - 0s 347us/step - loss: 1.2146 - acc: 0.5312 - val_loss: 1.2883 - val_acc: 0.4819\n",
      "Epoch 11/50\n",
      "337/337 [==============================] - 0s 484us/step - loss: 1.1966 - acc: 0.5252 - val_loss: 1.3089 - val_acc: 0.4518\n",
      "Epoch 12/50\n",
      "337/337 [==============================] - 0s 360us/step - loss: 1.1954 - acc: 0.5163 - val_loss: 1.3340 - val_acc: 0.4578\n",
      "Epoch 13/50\n",
      "337/337 [==============================] - 0s 323us/step - loss: 1.1736 - acc: 0.5134 - val_loss: 1.2898 - val_acc: 0.4880\n",
      "Epoch 14/50\n",
      "337/337 [==============================] - 0s 317us/step - loss: 1.1688 - acc: 0.5282 - val_loss: 1.3222 - val_acc: 0.4699\n",
      "Epoch 15/50\n",
      "337/337 [==============================] - 0s 518us/step - loss: 1.1689 - acc: 0.5134 - val_loss: 1.3781 - val_acc: 0.4096\n",
      "Epoch 16/50\n",
      "337/337 [==============================] - 0s 321us/step - loss: 1.1498 - acc: 0.5252 - val_loss: 1.3325 - val_acc: 0.4398\n",
      "Epoch 17/50\n",
      "337/337 [==============================] - 0s 502us/step - loss: 1.1535 - acc: 0.5401 - val_loss: 1.3593 - val_acc: 0.4277\n",
      "Epoch 18/50\n",
      "337/337 [==============================] - 0s 337us/step - loss: 1.1452 - acc: 0.5371 - val_loss: 1.3187 - val_acc: 0.4398\n",
      "Epoch 19/50\n",
      "337/337 [==============================] - 0s 336us/step - loss: 1.1337 - acc: 0.5460 - val_loss: 1.3071 - val_acc: 0.4759\n",
      "Epoch 20/50\n",
      "337/337 [==============================] - 0s 502us/step - loss: 1.1281 - acc: 0.5579 - val_loss: 1.3767 - val_acc: 0.4157\n",
      "Epoch 21/50\n",
      "337/337 [==============================] - 0s 359us/step - loss: 1.1232 - acc: 0.5549 - val_loss: 1.3830 - val_acc: 0.4157\n",
      "Epoch 22/50\n",
      "337/337 [==============================] - 0s 289us/step - loss: 1.1150 - acc: 0.5371 - val_loss: 1.3315 - val_acc: 0.4578\n",
      "Epoch 23/50\n",
      "337/337 [==============================] - 0s 336us/step - loss: 1.1186 - acc: 0.5460 - val_loss: 1.3131 - val_acc: 0.4819\n",
      "Epoch 24/50\n",
      "337/337 [==============================] - 0s 493us/step - loss: 1.1021 - acc: 0.5638 - val_loss: 1.2993 - val_acc: 0.4759\n",
      "Epoch 25/50\n",
      "337/337 [==============================] - 0s 348us/step - loss: 1.0918 - acc: 0.5549 - val_loss: 1.3391 - val_acc: 0.4458\n",
      "Epoch 26/50\n",
      "337/337 [==============================] - 0s 322us/step - loss: 1.0930 - acc: 0.5430 - val_loss: 1.3450 - val_acc: 0.4458\n",
      "Epoch 27/50\n",
      "337/337 [==============================] - 0s 482us/step - loss: 1.0847 - acc: 0.5460 - val_loss: 1.3726 - val_acc: 0.4096\n",
      "Epoch 28/50\n",
      "337/337 [==============================] - 0s 326us/step - loss: 1.0754 - acc: 0.5549 - val_loss: 1.3232 - val_acc: 0.4759\n",
      "Epoch 29/50\n",
      "337/337 [==============================] - 0s 383us/step - loss: 1.0686 - acc: 0.5786 - val_loss: 1.3664 - val_acc: 0.4096\n",
      "Epoch 30/50\n",
      "337/337 [==============================] - 0s 466us/step - loss: 1.0632 - acc: 0.5727 - val_loss: 1.3290 - val_acc: 0.4578\n",
      "Epoch 31/50\n",
      "337/337 [==============================] - 0s 344us/step - loss: 1.0576 - acc: 0.5697 - val_loss: 1.3093 - val_acc: 0.4578\n",
      "Epoch 32/50\n",
      "337/337 [==============================] - 0s 313us/step - loss: 1.0545 - acc: 0.5668 - val_loss: 1.3106 - val_acc: 0.4639\n",
      "Epoch 33/50\n",
      "337/337 [==============================] - ETA: 0s - loss: 0.8393 - acc: 0.683 - 0s 497us/step - loss: 1.0453 - acc: 0.5786 - val_loss: 1.3648 - val_acc: 0.4458\n",
      "Epoch 34/50\n",
      "337/337 [==============================] - 0s 342us/step - loss: 1.0409 - acc: 0.5964 - val_loss: 1.4105 - val_acc: 0.4217\n",
      "Epoch 35/50\n",
      "337/337 [==============================] - 0s 325us/step - loss: 1.0287 - acc: 0.5727 - val_loss: 1.3824 - val_acc: 0.4036\n",
      "Epoch 36/50\n",
      "337/337 [==============================] - 0s 335us/step - loss: 1.0245 - acc: 0.5786 - val_loss: 1.3330 - val_acc: 0.4578\n",
      "Epoch 37/50\n",
      "337/337 [==============================] - 0s 321us/step - loss: 1.0286 - acc: 0.5757 - val_loss: 1.3583 - val_acc: 0.4518\n",
      "Epoch 38/50\n",
      "337/337 [==============================] - 0s 353us/step - loss: 1.0366 - acc: 0.5668 - val_loss: 1.3274 - val_acc: 0.4518\n",
      "Epoch 39/50\n",
      "337/337 [==============================] - 0s 313us/step - loss: 1.0223 - acc: 0.5875 - val_loss: 1.3148 - val_acc: 0.4518\n",
      "Epoch 40/50\n",
      "337/337 [==============================] - 0s 486us/step - loss: 1.0163 - acc: 0.5727 - val_loss: 1.3065 - val_acc: 0.4578\n",
      "Epoch 41/50\n",
      "337/337 [==============================] - 0s 331us/step - loss: 1.0045 - acc: 0.5905 - val_loss: 1.3415 - val_acc: 0.4578\n",
      "Epoch 42/50\n",
      "337/337 [==============================] - 0s 344us/step - loss: 0.9998 - acc: 0.6113 - val_loss: 1.3357 - val_acc: 0.4398\n",
      "Epoch 43/50\n",
      "337/337 [==============================] - 0s 308us/step - loss: 0.9922 - acc: 0.5964 - val_loss: 1.3275 - val_acc: 0.4578\n",
      "Epoch 44/50\n",
      "337/337 [==============================] - 0s 491us/step - loss: 0.9931 - acc: 0.6024 - val_loss: 1.3305 - val_acc: 0.4398\n",
      "Epoch 45/50\n",
      "337/337 [==============================] - 0s 340us/step - loss: 0.9885 - acc: 0.5994 - val_loss: 1.3373 - val_acc: 0.4458\n",
      "Epoch 46/50\n",
      "337/337 [==============================] - 0s 342us/step - loss: 0.9833 - acc: 0.5964 - val_loss: 1.3766 - val_acc: 0.4639\n",
      "Epoch 47/50\n",
      "337/337 [==============================] - 0s 469us/step - loss: 0.9815 - acc: 0.6053 - val_loss: 1.3493 - val_acc: 0.4759\n",
      "Epoch 48/50\n",
      "337/337 [==============================] - 0s 323us/step - loss: 0.9743 - acc: 0.6083 - val_loss: 1.3744 - val_acc: 0.4458\n",
      "Epoch 49/50\n",
      "337/337 [==============================] - 0s 349us/step - loss: 0.9713 - acc: 0.6202 - val_loss: 1.3803 - val_acc: 0.4458\n",
      "Epoch 50/50\n",
      "337/337 [==============================] - 0s 353us/step - loss: 0.9679 - acc: 0.6053 - val_loss: 1.4035 - val_acc: 0.4518\n",
      "166/166 [==============================] - 0s 282us/step\n",
      "\n",
      "acc: 45.18%\n"
     ]
    }
   ],
   "source": [
    "from keras.models import Sequential\n",
    "from keras.layers import Dense,Dropout\n",
    "from keras.optimizers import SGD,RMSprop,Adagrad\n",
    "sgd=Adagrad(lr=0.02, epsilon=.1, decay=1e-5)\n",
    "model = Sequential()\n",
    "model.add(Dense(20, input_shape=X.shape[1:], activation='relu'))\n",
    "model.add(Dense(8, activation='relu'))\n",
    "model.add(Dense(len(categories),activation='softmax'))\n",
    "model.compile(loss='categorical_crossentropy', optimizer=sgd,metrics=['accuracy'])\n",
    "history=model.fit(X_train, y_train, epochs=50, batch_size=10,validation_data=(X_test,y_test),verbose=True)\n",
    "scores = model.evaluate(X_test, y_test)\n",
    "\n",
    "print(\"\\n%s: %.2f%%\" % (model.metrics_names[1], scores[1]*100))"
   ]
  },
  {
   "cell_type": "code",
   "execution_count": 20,
   "metadata": {},
   "outputs": [],
   "source": [
    "import os\n",
    "import sklearn.metrics\n",
    "\n",
    "\n",
    "def plot_history(history):\n",
    "    if history.get('acc') and history.get('val_acc'):\n",
    "        plt.plot(history['acc'], marker='.', label='train_accuracy')\n",
    "        axes = plt.gca()\n",
    "        axes.set_ylim([0,1])\n",
    "        plt.plot(history['val_acc'], marker='.', label='validation_accuracy')\n",
    "        axes = plt.gca()\n",
    "        axes.set_ylim([0,1])\n",
    "        plt.title('Model accuracy')\n",
    "        plt.xlabel('epoch')\n",
    "        plt.ylabel('accuracy')\n",
    "        plt.grid()\n",
    "        plt.legend(loc='lower right')\n",
    "        plt.show()\n",
    "        plt.figure()\n",
    "    \n",
    "\n",
    "    if history.get('loss') and history.get('val_loss'):\n",
    "        plt.plot(history['loss'], marker='.', label='train_loss')\n",
    "        plt.plot(history['val_loss'], marker='.', label='validation_loss')\n",
    "        plt.title('Model loss')\n",
    "        plt.xlabel('epoch')\n",
    "        plt.ylabel('loss')\n",
    "        plt.grid()\n",
    "        plt.legend(loc='lower right')\n",
    "        plt.show()\n",
    "\n",
    "\n",
    "def save_metrics(y_test, y_pred, categories):\n",
    "    y_test = np.argmax(y_test, axis=1)\n",
    "    y_pred = np.argmax(y_pred, axis=1)\n",
    "\n",
    "    classification_report = sklearn.metrics.classification_report(y_test, y_pred, target_names=categories, digits=5)\n",
    "    confusion_matrix = sklearn.metrics.confusion_matrix(y_test, y_pred)\n",
    "    confusion_matrix = confusion_matrix.astype('float')\n",
    "    \n",
    "\n",
    "    plt.imshow(confusion_matrix, interpolation='nearest', cmap='hot')\n",
    "    plt.colorbar()\n",
    "    plt.ylabel('True label')\n",
    "    plt.xlabel('Predicted label')\n",
    "    plt.show()\n",
    "    return confusion_matrix,classification_report\n"
   ]
  },
  {
   "cell_type": "markdown",
   "metadata": {},
   "source": [
    "# Accuracy vs Epochs and Loss vs Epochs"
   ]
  },
  {
   "cell_type": "code",
   "execution_count": 21,
   "metadata": {},
   "outputs": [
    {
     "data": {
      "image/png": "[encoded data removed]",
      "text/plain": [
       "<Figure size 432x288 with 1 Axes>"
      ]
     },
     "metadata": {
      "needs_background": "light"
     },
     "output_type": "display_data"
    },
    {
     "data": {
      "image/png": "[encoded data removed]",
      "text/plain": [
       "<Figure size 432x288 with 1 Axes>"
      ]
     },
     "metadata": {
      "needs_background": "light"
     },
     "output_type": "display_data"
    }
   ],
   "source": [
    "plot_history(history.history)"
   ]
  },
  {
   "cell_type": "markdown",
   "metadata": {},
   "source": [
    "## Predicted Y for X_test  (Solution of  Question 1)"
   ]
  },
  {
   "cell_type": "code",
   "execution_count": null,
   "metadata": {},
   "outputs": [],
   "source": [
    "y_pred=model.predict(X_test)"
   ]
  },
  {
   "cell_type": "markdown",
   "metadata": {},
   "source": [
    "## Saving the Model"
   ]
  },
  {
   "cell_type": "code",
   "execution_count": 22,
   "metadata": {},
   "outputs": [
    {
     "name": "stdout",
     "output_type": "stream",
     "text": [
      "Saved model successfully\n"
     ]
    }
   ],
   "source": [
    "def save_model(model):\n",
    "    with open(os.path.join(\".\",\"saved\") + '.json', 'w')as model_file:\n",
    "        model_file.write(model.to_json())\n",
    "    model.save_weights(os.path.join(\".\",\"saved\") + '.h5')\n",
    "    print('Saved model successfully')\n",
    "save_model(model)"
   ]
  },
  {
   "cell_type": "markdown",
   "metadata": {},
   "source": [
    "# Confusion Matrix"
   ]
  },
  {
   "cell_type": "code",
   "execution_count": 23,
   "metadata": {},
   "outputs": [
    {
     "data": {
      "image/png": "[encoded data removed]",
      "text/plain": [
       "<Figure size 432x288 with 2 Axes>"
      ]
     },
     "metadata": {
      "needs_background": "light"
     },
     "output_type": "display_data"
    },
    {
     "name": "stdout",
     "output_type": "stream",
     "text": [
      "             precision    recall  f1-score   support\n",
      "\n",
      "    score 0    1.00000   0.09091   0.16667        11\n",
      "    score 1    1.00000   0.03333   0.06452        30\n",
      "    score 2    0.48980   0.33333   0.39669        72\n",
      "    score 3    0.51295   0.60366   0.55462       164\n",
      "    score 4    0.60618   0.69469   0.64742       226\n",
      "\n",
      "avg / total    0.59122   0.56064   0.53600       503\n",
      "\n"
     ]
    }
   ],
   "source": [
    "y_pred=model.predict(X)\n",
    "confusion_matrix,classification_report=save_metrics(y,y_pred,categories)\n",
    "print(classification_report)"
   ]
  },
  {
   "cell_type": "markdown",
   "metadata": {},
   "source": [
    "# Identifying the most relevent features\n",
    "\n",
    "We have used 'Tree based feature selection' for identifying the most relevent features.Tree-based estimators can be used to    compute feature importances, which in turn can be used to discard irrelevant feature"
   ]
  },
  {
   "cell_type": "code",
   "execution_count": 24,
   "metadata": {},
   "outputs": [],
   "source": [
    "from sklearn.ensemble import ExtraTreesClassifier\n",
    "from sklearn.feature_selection import SelectFromModel\n",
    "classi = ExtraTreesClassifier(n_estimators=50)\n",
    "classi = classi.fit(X, y)\n",
    "arr=classi.feature_importances_\n",
    "indices=arr.argsort()[-5:][::-1]"
   ]
  },
  {
   "cell_type": "code",
   "execution_count": 25,
   "metadata": {},
   "outputs": [
    {
     "name": "stdout",
     "output_type": "stream",
     "text": [
      "Nr. reviews\n",
      "Nr. hotel reviews\n",
      "Helpful votes\n",
      "Member years\n",
      "Hotel stars\n"
     ]
    }
   ],
   "source": [
    "for index in indices:\n",
    "    print(data.columns[index])\n"
   ]
  },
  {
   "cell_type": "markdown",
   "metadata": {},
   "source": [
    "# Conclusion\n",
    "\n",
    "Through the dataset we found that '5' is the score ,given by maximum reviewers.And also after training the model we found that\n",
    "1)Nr. reviews\n",
    "2)Nr. hotel reviews\n",
    "3)Helpful votes\n",
    "4)Member years\n",
    "5)Hotel stars\n",
    "are the most relevent features that determine the score given by a reviewer."
   ]
  },
  {
   "cell_type": "code",
   "execution_count": null,
   "metadata": {},
   "outputs": [],
   "source": []
  }
 ],
 "metadata": {
  "kernelspec": {
   "display_name": "Python 3",
   "language": "python",
   "name": "python3"
  },
  "language_info": {
   "codemirror_mode": {
    "name": "ipython",
    "version": 3
   },
   "file_extension": ".py",
   "mimetype": "text/x-python",
   "name": "python",
   "nbconvert_exporter": "python",
   "pygments_lexer": "ipython3",
   "version": "3.6.6"
  }
 },
 "nbformat": 4,
 "nbformat_minor": 2
}
